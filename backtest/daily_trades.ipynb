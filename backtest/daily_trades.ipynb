{
 "cells": [
  {
   "cell_type": "code",
   "execution_count": 1,
   "metadata": {},
   "outputs": [],
   "source": [
    "from datetime import datetime\n",
    "import pandas as pd"
   ]
  },
  {
   "cell_type": "code",
   "execution_count": 2,
   "metadata": {},
   "outputs": [
    {
     "name": "stdout",
     "output_type": "stream",
     "text": [
      "['https://boulderinvestmenttech.s3.amazonaws.com/ds_lppls_confidence_indicators/2019/10/10.csv', 'https://boulderinvestmenttech.s3.amazonaws.com/ds_lppls_confidence_indicators/2019/10/11.csv', 'https://boulderinvestmenttech.s3.amazonaws.com/ds_lppls_confidence_indicators/2019/10/14.csv', 'https://boulderinvestmenttech.s3.amazonaws.com/ds_lppls_confidence_indicators/2019/10/15.csv', 'https://boulderinvestmenttech.s3.amazonaws.com/ds_lppls_confidence_indicators/2019/10/16.csv', 'https://boulderinvestmenttech.s3.amazonaws.com/ds_lppls_confidence_indicators/2019/10/17.csv', 'https://boulderinvestmenttech.s3.amazonaws.com/ds_lppls_confidence_indicators/2019/10/18.csv', 'https://boulderinvestmenttech.s3.amazonaws.com/ds_lppls_confidence_indicators/2019/10/21.csv', 'https://boulderinvestmenttech.s3.amazonaws.com/ds_lppls_confidence_indicators/2019/10/22.csv', 'https://boulderinvestmenttech.s3.amazonaws.com/ds_lppls_confidence_indicators/2019/10/23.csv', 'https://boulderinvestmenttech.s3.amazonaws.com/ds_lppls_confidence_indicators/2019/10/24.csv', 'https://boulderinvestmenttech.s3.amazonaws.com/ds_lppls_confidence_indicators/2019/10/25.csv', 'https://boulderinvestmenttech.s3.amazonaws.com/ds_lppls_confidence_indicators/2019/10/28.csv', 'https://boulderinvestmenttech.s3.amazonaws.com/ds_lppls_confidence_indicators/2019/10/29.csv', 'https://boulderinvestmenttech.s3.amazonaws.com/ds_lppls_confidence_indicators/2019/10/30.csv']\n",
      "['10/10/19', '10/11/19', '10/14/19', '10/15/19', '10/16/19', '10/17/19', '10/18/19', '10/21/19', '10/22/19', '10/23/19', '10/24/19', '10/25/19', '10/28/19', '10/29/19', '10/30/19']\n"
     ]
    }
   ],
   "source": [
    "s3_bucket = 'https://boulderinvestmenttech.s3.amazonaws.com/ds_lppls_confidence_indicators'\n",
    "SP500 = ['MMM', 'ABT', 'ABBV', 'ABMD', 'ACN', 'ATVI', 'ADBE', 'AMD', 'AAP', 'AES', 'AMG', 'AFL', 'A', 'APD', 'AKAM', 'ALK', 'ALB', 'ARE', 'ALXN', 'ALGN', 'ALLE', 'AGN', 'ADS', 'LNT', 'ALL', 'GOOGL', 'GOOG', 'MO', 'AMZN', 'AMCR', 'AEE', 'AAL', 'AEP', 'AXP', 'AIG', 'AMT', 'AWK', 'AMP', 'ABC', 'AME', 'AMGN', 'APH', 'ADI', 'ANSS', 'ANTM', 'AON', 'AOS', 'APA', 'AIV', 'AAPL', 'AMAT', 'APTV', 'ADM', 'ARNC', 'ANET', 'AJG', 'AIZ', 'ATO', 'T', 'ADSK', 'ADP', 'AZO', 'AVB', 'AVY', 'BLL', 'BAC', 'BK', 'BAX', 'BBT', 'BDX', 'BRK.B', 'BBY', 'BIIB', 'BLK', 'HRB', 'BA', 'BKNG', 'BWA', 'BXP', 'BSX', 'BMY', 'AVGO', 'BR', 'BF.B', 'CHRW', 'COG', 'CDNS', 'CPB', 'COF', 'CPRI', 'CAH', 'KMX', 'CCL', 'CAT', 'CBOE', 'CBRE', 'CBS', 'CDW', 'CE', 'CELG', 'CNC', 'CNP', 'CTL', 'CERN', 'CF', 'SCHW', 'CHTR', 'CVX', 'CMG', 'CB', 'CHD', 'CI', 'XEC', 'CINF', 'CTAS', 'CSCO', 'C', 'CFG', 'CTXS', 'CLX', 'CME', 'CMS', 'KO', 'CTSH', 'CL', 'CMCSA', 'CMA', 'CAG', 'CXO', 'COP', 'ED', 'STZ', 'COO', 'CPRT', 'GLW', 'CTVA', 'COST', 'COTY', 'CCI', 'CSX', 'CMI', 'CVS', 'DHI', 'DHR', 'DRI', 'DVA', 'DE', 'DAL', 'XRAY', 'DVN', 'FANG', 'DLR', 'DFS', 'DISCA', 'DISCK', 'DISH', 'DG', 'DLTR', 'D', 'DOV', 'DOW', 'DTE', 'DUK', 'DRE', 'DD', 'DXC', 'ETFC', 'EMN', 'ETN', 'EBAY', 'ECL', 'EIX', 'EW', 'EA', 'EMR', 'ETR', 'EOG', 'EFX', 'EQIX', 'EQR', 'ESS', 'EL', 'EVRG', 'ES', 'RE', 'EXC', 'EXPE', 'EXPD', 'EXR', 'XOM', 'FFIV', 'FB', 'FAST', 'FRT', 'FDX', 'FIS', 'FITB', 'FE', 'FRC', 'FISV', 'FLT', 'FLIR', 'FLS', 'FMC', 'F', 'FTNT', 'FTV', 'FBHS', 'FOXA', 'FOX', 'BEN', 'FCX', 'GPS', 'GRMN', 'IT', 'GD', 'GE', 'GIS', 'GM', 'GPC', 'GILD', 'GL', 'GPN', 'GS', 'GWW', 'HAL', 'HBI', 'HOG', 'HIG', 'HAS', 'HCA', 'HCP', 'HP', 'HSIC', 'HSY', 'HES', 'HPE', 'HLT', 'HFC', 'HOLX', 'HD', 'HON', 'HRL', 'HST', 'HPQ', 'HUM', 'HBAN', 'HII', 'IEX', 'IDXX', 'INFO', 'ITW', 'ILMN', 'IR', 'INTC', 'ICE', 'IBM', 'INCY', 'IP', 'IPG', 'IFF', 'INTU', 'ISRG', 'IVZ', 'IPGP', 'IQV', 'IRM', 'JKHY', 'JEC', 'JBHT', 'SJM', 'JNJ', 'JCI', 'JPM', 'JNPR', 'KSU', 'K', 'KEY', 'KEYS', 'KMB', 'KIM', 'KMI', 'KLAC', 'KSS', 'KHC', 'KR', 'LB', 'LHX', 'LH', 'LRCX', 'LW', 'LEG', 'LDOS', 'LEN', 'LLY', 'LNC', 'LIN', 'LKQ', 'LMT', 'L', 'LOW', 'LYB', 'MTB', 'MAC', 'M', 'MRO', 'MPC', 'MKTX', 'MAR', 'MMC', 'MLM', 'MAS', 'MA', 'MKC', 'MXIM', 'MCD', 'MCK', 'MDT', 'MRK', 'MET', 'MTD', 'MGM', 'MCHP', 'MU', 'MSFT', 'MAA', 'MHK', 'TAP', 'MDLZ', 'MNST', 'MCO', 'MS', 'MOS', 'MSI', 'MSCI', 'MYL', 'NDAQ', 'NOV', 'NKTR', 'NTAP', 'NFLX', 'NWL', 'NEM', 'NWSA', 'NWS', 'NEE', 'NLSN', 'NKE', 'NI', 'NBL', 'JWN', 'NSC', 'NTRS', 'NOC', 'NCLH', 'NRG', 'NUE', 'NVDA', 'NVR', 'ORLY', 'OXY', 'OMC', 'OKE', 'ORCL', 'PCAR', 'PKG', 'PH', 'PAYX', 'PYPL', 'PNR', 'PBCT', 'PEP', 'PKI', 'PRGO', 'PFE', 'PM', 'PSX', 'PNW', 'PXD', 'PNC', 'PPG', 'PPL', 'PFG', 'PG', 'PGR', 'PLD', 'PRU', 'PEG', 'PSA', 'PHM', 'PVH', 'QRVO', 'PWR', 'QCOM', 'DGX', 'RL', 'RJF', 'RTN', 'O', 'REG', 'REGN', 'RF', 'RSG', 'RMD', 'RHI', 'ROK', 'ROL', 'ROP', 'ROST', 'RCL', 'CRM', 'SBAC', 'SLB', 'STX', 'SEE', 'SRE', 'SHW', 'SPG', 'SWKS', 'SLG', 'SNA', 'SO', 'LUV', 'SPGI', 'SWK', 'SBUX', 'STT', 'SYK', 'STI', 'SIVB', 'SYMC', 'SYF', 'SNPS', 'SYY', 'TMUS', 'TROW', 'TTWO', 'TPR', 'TGT', 'TEL', 'FTI', 'TFX', 'TXN', 'TXT', 'TMO', 'TIF', 'TWTR', 'TJX', 'TSCO', 'TDG', 'TRV', 'TRIP', 'TSN', 'UDR', 'ULTA', 'USB', 'UAA', 'UA', 'UNP', 'UAL', 'UNH', 'UPS', 'URI', 'UTX', 'UHS', 'UNM', 'VFC', 'VLO', 'VAR', 'VTR', 'VRSN', 'VRSK', 'VZ', 'VRTX', 'VIAB', 'V', 'VNO', 'VMC', 'WAB', 'WMT', 'WBA', 'DIS', 'WM', 'WAT', 'WEC', 'WCG', 'WFC', 'WELL', 'WDC', 'WU', 'WRK', 'WY', 'WHR', 'WMB', 'WLTW', 'WYNN', 'XEL', 'XRX', 'XLNX', 'XYL', 'YUM', 'ZBH', 'ZION', 'ZTS']\n",
    "\n",
    "LOWER = 0.0\n",
    "UPPER = 0.1\n",
    "\n",
    "ROLLING_WINDOW = 15\n",
    "\n",
    "ma_window = [\n",
    "#     ('2019', '10', '08'),\n",
    "#     ('2019', '10', '09'),\n",
    "    ('2019', '10', '10'),\n",
    "    ('2019', '10', '11'),\n",
    "    ('2019', '10', '14'),\n",
    "    ('2019', '10', '15'),\n",
    "    ('2019', '10', '16'),\n",
    "    ('2019', '10', '17'),\n",
    "    ('2019', '10', '18'),\n",
    "    ('2019', '10', '21'),\n",
    "    ('2019', '10', '22'),\n",
    "    ('2019', '10', '23'),\n",
    "    ('2019', '10', '24'),\n",
    "    ('2019', '10', '25'),\n",
    "    ('2019', '10', '28'),\n",
    "    ('2019', '10', '29'),\n",
    "    ('2019', '10', '30')\n",
    "]\n",
    "\n",
    "files = ['{}/{}/{}/{}.csv'.format(s3_bucket, date[0], date[1], date[2]) for date in ma_window]\n",
    "\n",
    "date_index = [datetime.strptime('/'.join(str(i) for i in date),'%Y/%m/%d').strftime('%m/%d/%y') for date in ma_window]\n",
    "\n",
    "print(files)\n",
    "print(date_index)"
   ]
  },
  {
   "cell_type": "code",
   "execution_count": 3,
   "metadata": {},
   "outputs": [],
   "source": [
    "bew_data = pd.DataFrame(index=date_index, columns=SP500)\n",
    "bef_data = pd.DataFrame(index=date_index, columns=SP500)\n",
    "\n",
    "# bew_data = pd.DataFrame(columns=SP500)\n",
    "# bef_data = pd.DataFrame(columns=SP500)\n",
    "\n",
    "bew_data_ma = pd.DataFrame()\n",
    "bef_data_ma = pd.DataFrame()\n",
    "\n",
    "for file in files:\n",
    "    data = pd.read_csv(file)\n",
    "    for index, row in data.iterrows():\n",
    "        index = row['date']\n",
    "        symbol = row['symbol']\n",
    "        bew_data[symbol][index] = row['val_bew']\n",
    "        bef_data[symbol][index] = row['val_bef']\n",
    "\n",
    "for (column_name, column_data) in bew_data.iteritems():\n",
    "    bew_data_ma[column_name] = bew_data[column_name].rolling(ROLLING_WINDOW).mean()\n",
    "\n",
    "for (column_name, column_data) in bef_data.iteritems():\n",
    "    bef_data_ma[column_name] = bef_data[column_name].rolling(ROLLING_WINDOW).mean()"
   ]
  },
  {
   "cell_type": "code",
   "execution_count": 4,
   "metadata": {},
   "outputs": [],
   "source": [
    "# daily indicators\n",
    "di = pd.DataFrame({\n",
    "    'symbol': bew_data_ma.columns,\n",
    "    'val_bew': bew_data_ma.tail(1).values[0],\n",
    "    'val_bef': bef_data_ma.tail(1).values[0],\n",
    "})\n",
    "di['longs'] = (\n",
    "    (di['val_bew'] < (LOWER*-1)) & \n",
    "    (di['val_bef'] > (UPPER*-1)) & \n",
    "    (di['val_bef'] < di['val_bew']))\n",
    "di['shorts'] = (\n",
    "    (di['val_bew'] > LOWER) & \n",
    "    (di['val_bef'] < UPPER ) & \n",
    "    (di['val_bef'] > di['val_bew']))"
   ]
  },
  {
   "cell_type": "code",
   "execution_count": 5,
   "metadata": {},
   "outputs": [
    {
     "data": {
      "text/html": [
       "<div>\n",
       "<style scoped>\n",
       "    .dataframe tbody tr th:only-of-type {\n",
       "        vertical-align: middle;\n",
       "    }\n",
       "\n",
       "    .dataframe tbody tr th {\n",
       "        vertical-align: top;\n",
       "    }\n",
       "\n",
       "    .dataframe thead th {\n",
       "        text-align: right;\n",
       "    }\n",
       "</style>\n",
       "<table border=\"1\" class=\"dataframe\">\n",
       "  <thead>\n",
       "    <tr style=\"text-align: right;\">\n",
       "      <th></th>\n",
       "      <th>symbol</th>\n",
       "      <th>val_bew</th>\n",
       "      <th>val_bef</th>\n",
       "      <th>longs</th>\n",
       "      <th>shorts</th>\n",
       "    </tr>\n",
       "  </thead>\n",
       "  <tbody>\n",
       "    <tr>\n",
       "      <th>447</th>\n",
       "      <td>TJX</td>\n",
       "      <td>-0.003175</td>\n",
       "      <td>-0.006349</td>\n",
       "      <td>True</td>\n",
       "      <td>False</td>\n",
       "    </tr>\n",
       "  </tbody>\n",
       "</table>\n",
       "</div>"
      ],
      "text/plain": [
       "    symbol   val_bew   val_bef  longs  shorts\n",
       "447    TJX -0.003175 -0.006349   True   False"
      ]
     },
     "execution_count": 5,
     "metadata": {},
     "output_type": "execute_result"
    }
   ],
   "source": [
    "di_filtered = di[(di['longs'] == True) | (di['shorts'] == True)]\n",
    "di_filtered"
   ]
  },
  {
   "cell_type": "code",
   "execution_count": null,
   "metadata": {},
   "outputs": [],
   "source": []
  }
 ],
 "metadata": {
  "kernelspec": {
   "display_name": "Python 3",
   "language": "python",
   "name": "python3"
  },
  "language_info": {
   "codemirror_mode": {
    "name": "ipython",
    "version": 3
   },
   "file_extension": ".py",
   "mimetype": "text/x-python",
   "name": "python",
   "nbconvert_exporter": "python",
   "pygments_lexer": "ipython3",
   "version": "3.7.3"
  }
 },
 "nbformat": 4,
 "nbformat_minor": 2
}
