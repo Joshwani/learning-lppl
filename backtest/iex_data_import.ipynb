{
 "cells": [
  {
   "cell_type": "code",
   "execution_count": 1,
   "metadata": {},
   "outputs": [],
   "source": [
    "import functools\n",
    "import json\n",
    "import math\n",
    "import numpy as np\n",
    "import pandas as pd\n",
    "import requests\n",
    "import time"
   ]
  },
  {
   "cell_type": "code",
   "execution_count": 2,
   "metadata": {},
   "outputs": [],
   "source": [
    "test_base_url = 'https://sandbox.iexapis.com'\n",
    "test_token = 'Tpk_27c608f1ca1a41a1984f49517f378203'\n",
    "\n",
    "base_url = 'https://cloud.iexapis.com'\n",
    "token = 'pk_8d9bd95ebeaf42f080b79d8383279409'"
   ]
  },
  {
   "cell_type": "code",
   "execution_count": 3,
   "metadata": {},
   "outputs": [
    {
     "name": "stdout",
     "output_type": "stream",
     "text": [
      "<Response [200]>\n",
      "100\n"
     ]
    }
   ],
   "source": [
    "# get all the symbols and store in df\n",
    "symbol_url = '{}/v1/ref-data/symbols?token={}'.format(test_base_url, test_token)\n",
    "try:\n",
    "    r = requests.get(symbol_url)\n",
    "    print(r)\n",
    "except Exception as e:\n",
    "    print(e)\n",
    "\n",
    "print(r.headers['iexcloud-messages-used'])"
   ]
  },
  {
   "cell_type": "code",
   "execution_count": 4,
   "metadata": {},
   "outputs": [
    {
     "name": "stdout",
     "output_type": "stream",
     "text": [
      "8814\n",
      "4565\n",
      "  currency       date exchange                 iexId  isEnabled  \\\n",
      "0      USD 2019-07-27      SYN  IEX_46574843354B2D52       True   \n",
      "1      USD 2019-07-27      YSN  IEX_4238333734532D52       True   \n",
      "4      USD 2019-07-27      SNY  IEX_4843364642592D52       True   \n",
      "6      USD 2019-07-27      ANS  IEX_4353464A535A2D52       True   \n",
      "7      USD 2019-07-27      ASE  IEX_5442323844432D52       True   \n",
      "\n",
      "                                name region symbol type  \n",
      "0          neinlIlsgo. ce hgciTotnAe     US      A   cs  \n",
      "1                        .op orAcCal     US     AA   cs  \n",
      "4                  AnHig n.lsCAcId o     US    AAC   cs  \n",
      "6       clG.aierAnue crniAnsior  mpI     US    AAL   cs  \n",
      "7  Mrtoosimapseeen AutgaC c.ntrs lAe     US   AAMC   cs  \n"
     ]
    }
   ],
   "source": [
    "symbols_df = pd.read_json(json.dumps(r.json()))\n",
    "print(len(symbols_df))\n",
    "filtered_symbols_df = symbols_df[(symbols_df.type == 'cs')]\n",
    "print(len(filtered_symbols_df))\n",
    "\n",
    "# data = pd.DataFrame()\n",
    "# print(filtered_symbols_df.shape)\n",
    "print(filtered_symbols_df.head())\n",
    "# set_index=True"
   ]
  },
  {
   "cell_type": "code",
   "execution_count": 5,
   "metadata": {},
   "outputs": [
    {
     "name": "stdout",
     "output_type": "stream",
     "text": [
      "46\n",
      "A,AA,AAC,AAL,AAMC,AAME,AAN,AAOI,AAON,AAP,AAPL,AAT,AAU,AAWW,AAXN,AB,ABBV,ABC,ABCB,ABDC,ABEO,ABG,ABIL,ABIO,ABM,ABMD,ABR,ABT,ABTX,ABUS,AC,ACA,ACAD,ACAM,ACB,ACBI,ACC,ACCO,ACER,ACGL,ACHC,ACHN,ACHV,ACIA,ACIU,ACIW,ACLS,ACM,ACMR,ACN,ACNB,ACOR,ACRE,ACRS,ACRX,ACST,ACTG,ACTT,ACU,ACY,ADBE,ADC,ADES,ADI,ADIL,ADM,ADMA,ADMP,ADMS,ADNT,ADOM,ADP,ADPT,ADRO,ADS,ADSK,ADSW,ADT,ADTN,ADUS,ADVM,ADXS,AE,AEE,AEGN,AEHR,AEIS,AEL,AEM,AEMD,AEO,AEP,AER,AERI,AES,AETI,AEY,AEYE,AEZS,AFG\n"
     ]
    }
   ],
   "source": [
    "# create batches\n",
    "# symbols max = 100\n",
    "# '{}/v1/stock/market/batch?symbols={}&types=chartt&range=5y&token={}'.format()\n",
    "symbol_chunk_list = []\n",
    "\n",
    "# create chunks from filtered_symbols_df\n",
    "chunks = math.ceil(len(filtered_symbols_df)/100)\n",
    "for chunk in np.array_split(filtered_symbols_df, chunks):\n",
    "    symbol_chunk = ','.join(chunk['symbol'].tolist())\n",
    "    symbol_chunk_list.append(symbol_chunk)\n",
    "    \n",
    "print(len(symbol_chunk_list))\n",
    "print(symbol_chunk_list[0])"
   ]
  },
  {
   "cell_type": "code",
   "execution_count": 6,
   "metadata": {},
   "outputs": [
    {
     "name": "stdout",
     "output_type": "stream",
     "text": [
      "msg used: 1129750\n",
      "call count: 1\n",
      "msg used: 2163720\n",
      "call count: 2\n",
      "msg used: 3231250\n",
      "call count: 3\n",
      "msg used: 4310360\n",
      "call count: 4\n",
      "msg used: 5390980\n",
      "call count: 5\n",
      "msg used: 6510230\n",
      "call count: 6\n",
      "msg used: 7552190\n",
      "call count: 7\n",
      "msg used: 8650160\n",
      "call count: 8\n",
      "msg used: 9757030\n",
      "call count: 9\n",
      "msg used: 10914870\n",
      "call count: 10\n",
      "msg used: 12025860\n",
      "call count: 11\n",
      "msg used: 13144570\n",
      "call count: 12\n",
      "msg used: 14249030\n",
      "call count: 13\n",
      "msg used: 15354620\n",
      "call count: 14\n",
      "msg used: 16432420\n",
      "call count: 15\n",
      "msg used: 17587990\n",
      "call count: 16\n",
      "msg used: 18618590\n",
      "call count: 17\n",
      "msg used: 19694930\n",
      "call count: 18\n",
      "msg used: 20709010\n",
      "call count: 19\n",
      "msg used: 21790580\n",
      "call count: 20\n",
      "msg used: 22935740\n",
      "call count: 21\n",
      "msg used: 23988390\n",
      "call count: 22\n",
      "msg used: 25120910\n",
      "call count: 23\n",
      "msg used: 26165200\n",
      "call count: 24\n",
      "msg used: 27234190\n",
      "call count: 25\n",
      "msg used: 28334280\n",
      "call count: 26\n",
      "msg used: 29432400\n",
      "call count: 27\n",
      "msg used: 30525600\n",
      "call count: 28\n",
      "msg used: 31610440\n",
      "call count: 29\n",
      "msg used: 32736730\n",
      "call count: 30\n",
      "msg used: 33861910\n",
      "call count: 31\n",
      "msg used: 34957170\n",
      "call count: 32\n",
      "msg used: 36049090\n",
      "call count: 33\n",
      "msg used: 37075530\n",
      "call count: 34\n",
      "msg used: 38177120\n",
      "call count: 35\n",
      "msg used: 39213520\n",
      "call count: 36\n",
      "msg used: 40339390\n",
      "call count: 37\n",
      "msg used: 41420830\n",
      "call count: 38\n",
      "msg used: 42501160\n",
      "call count: 39\n",
      "msg used: 43584930\n",
      "call count: 40\n",
      "msg used: 44665770\n",
      "call count: 41\n",
      "msg used: 45761130\n",
      "call count: 42\n",
      "msg used: 46900390\n",
      "call count: 43\n",
      "msg used: 47981200\n",
      "call count: 44\n",
      "msg used: 49125080\n",
      "call count: 45\n",
      "msg used: 50166950\n",
      "call count: 46\n",
      "484.1365439891815\n"
     ]
    }
   ],
   "source": [
    "data = pd.DataFrame()\n",
    "set_index = True\n",
    "iexcloud_msg_used = 0\n",
    "call_count = 0\n",
    "\n",
    "start = time.time()\n",
    "for symbol_list in symbol_chunk_list:\n",
    "    \n",
    "    batch_url = '{}/v1/stock/market/batch?symbols={}&types=chart&range=5y&filter=date,close&token={}'.format(test_base_url, symbol_list, test_token)\n",
    "    try:\n",
    "        batch_request = requests.get(batch_url)\n",
    "        iexcloud_msg_used = iexcloud_msg_used + int(batch_request.headers['iexcloud-messages-used'])\n",
    "        print(\"msg used: {}\".format(iexcloud_msg_used))\n",
    "        call_count = call_count + 1\n",
    "        print(\"call count: {}\".format(call_count))\n",
    "    except Exception as e:\n",
    "        print(e)\n",
    "    \n",
    "    json_response = batch_request.json()\n",
    "    \n",
    "    for symbol in json_response:\n",
    "\n",
    "        zipped_data = zip(\n",
    "            [i['date'] for i in json_response[symbol]['chart']],\n",
    "            [i['close'] for i in json_response[symbol]['chart']]\n",
    "        )\n",
    "        list_of_zipped_data = list(zipped_data)\n",
    "        symbol_df = pd.DataFrame(list_of_zipped_data, columns = ['date', 'close'])\n",
    "        \n",
    "        if set_index:\n",
    "            data['date'] = symbol_df['date']\n",
    "            data[symbol] = symbol_df['close']\n",
    "            # changes the index col to dtype str\n",
    "            data.rename(index=str, columns={symbol: symbol}, inplace=True)\n",
    "            data.set_index('date', inplace=True)\n",
    "            # sets flag to false so this block isn't run anymore\n",
    "            set_index = False\n",
    "        else:\n",
    "            symbol_df.rename(index=str, columns={'close': symbol}, inplace=True)\n",
    "            symbol_df.set_index('date', inplace=True)\n",
    "            data = data.join(symbol_df, on='date', how='left')\n",
    "\n",
    "end = time.time()\n",
    "print(end - start)"
   ]
  },
  {
   "cell_type": "code",
   "execution_count": 8,
   "metadata": {},
   "outputs": [],
   "source": [
    "data.to_csv('/Users/joshnielsen/Desktop/historical_data.csv')"
   ]
  },
  {
   "cell_type": "code",
   "execution_count": 30,
   "metadata": {},
   "outputs": [
    {
     "data": {
      "text/plain": [
       "date\n",
       "2016-07-21       NaN\n",
       "2016-07-22       NaN\n",
       "2016-07-25       NaN\n",
       "2016-07-26       NaN\n",
       "2016-07-27       NaN\n",
       "2016-07-28       NaN\n",
       "2016-07-29    0.8406\n",
       "2016-08-01    0.8513\n",
       "2016-08-02    0.8588\n",
       "2016-08-03    0.8645\n",
       "2016-08-04    0.8378\n",
       "2016-08-05    0.8686\n",
       "2016-08-08    0.9340\n",
       "2016-08-09    0.9414\n",
       "2016-08-10    0.9739\n",
       "2016-08-11    0.9960\n",
       "2016-08-12    0.9853\n",
       "2016-08-15    1.1400\n",
       "2016-08-16    1.1300\n",
       "2016-08-17    1.1200\n",
       "2016-08-18    1.1700\n",
       "2016-08-19    1.1400\n",
       "2016-08-22    1.1600\n",
       "2016-08-23    1.1000\n",
       "2016-08-24    1.1100\n",
       "2016-08-25    1.1400\n",
       "2016-08-26       NaN\n",
       "2016-08-29       NaN\n",
       "2016-08-30    1.0000\n",
       "2016-08-31       NaN\n",
       "               ...  \n",
       "2016-10-28    1.1300\n",
       "2016-10-31    1.1700\n",
       "2016-11-01    1.1600\n",
       "2016-11-02    1.1700\n",
       "2016-11-03    1.1700\n",
       "2016-11-04    1.1600\n",
       "2016-11-07    1.1400\n",
       "2016-11-08    1.1800\n",
       "2016-11-09    1.1000\n",
       "2016-11-10    1.1000\n",
       "2016-11-11    1.1000\n",
       "2016-11-14    1.1000\n",
       "2016-11-15    1.1200\n",
       "2016-11-16    1.1100\n",
       "2016-11-17    1.0400\n",
       "2016-11-18    1.0800\n",
       "2016-11-21    1.0800\n",
       "2016-11-22    1.1600\n",
       "2016-11-23    1.1500\n",
       "2016-11-25    1.0700\n",
       "2016-11-28    1.0800\n",
       "2016-11-29    1.0600\n",
       "2016-11-30    1.0700\n",
       "2016-12-01    1.0120\n",
       "2016-12-02    1.0060\n",
       "2016-12-05    1.0260\n",
       "2016-12-06    1.0000\n",
       "2016-12-07    1.0200\n",
       "2016-12-08    1.0310\n",
       "2016-12-09    1.0080\n",
       "Name: ZOM, Length: 100, dtype: float64"
      ]
     },
     "execution_count": 30,
     "metadata": {},
     "output_type": "execute_result"
    }
   ],
   "source": [
    "data.shape\n",
    "data.head()\n",
    "data['ZOM'][500:600]"
   ]
  },
  {
   "cell_type": "code",
   "execution_count": null,
   "metadata": {},
   "outputs": [],
   "source": [
    "a = pd.DataFrame({'a':[1,2,3], 'b':[4,5,6]})\n",
    "a = a.set_index('a')"
   ]
  },
  {
   "cell_type": "code",
   "execution_count": null,
   "metadata": {},
   "outputs": [],
   "source": [
    "b = pd.DataFrame({'a':[2,3], 'c':[9,9]})\n",
    "b = b.set_index('a')"
   ]
  },
  {
   "cell_type": "code",
   "execution_count": null,
   "metadata": {},
   "outputs": [],
   "source": [
    "a = a.join(b, how='left')\n",
    "a"
   ]
  },
  {
   "cell_type": "code",
   "execution_count": null,
   "metadata": {},
   "outputs": [],
   "source": [
    "a.index.tolist()"
   ]
  },
  {
   "cell_type": "code",
   "execution_count": null,
   "metadata": {},
   "outputs": [],
   "source": []
  }
 ],
 "metadata": {
  "kernelspec": {
   "display_name": "Python 3",
   "language": "python",
   "name": "python3"
  },
  "language_info": {
   "codemirror_mode": {
    "name": "ipython",
    "version": 3
   },
   "file_extension": ".py",
   "mimetype": "text/x-python",
   "name": "python",
   "nbconvert_exporter": "python",
   "pygments_lexer": "ipython3",
   "version": "3.7.3"
  }
 },
 "nbformat": 4,
 "nbformat_minor": 2
}
