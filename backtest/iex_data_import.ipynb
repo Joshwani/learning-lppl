{
 "cells": [
  {
   "cell_type": "code",
   "execution_count": 1,
   "metadata": {},
   "outputs": [],
   "source": [
    "import json\n",
    "import requests\n",
    "import pandas as pd"
   ]
  },
  {
   "cell_type": "code",
   "execution_count": 2,
   "metadata": {},
   "outputs": [
    {
     "name": "stdout",
     "output_type": "stream",
     "text": [
      "Bad symbol: BFL\n",
      "Bad symbol: LTN^\n"
     ]
    }
   ],
   "source": [
    "# get all the symbols and store in df\n",
    "symbol_url = 'https://api.iextrading.com/1.0/ref-data/symbols/'\n",
    "r = requests.get(symbol_url)\n",
    "symbols_df = pd.read_json(json.dumps(r.json()))\n",
    "data = pd.DataFrame()\n",
    "\n",
    "set_index=True\n",
    "\n",
    "for i in symbols_df.itertuples():\n",
    "    symbol = i.symbol\n",
    "    symbol_type = i.type\n",
    "    if symbol_type == 'cs':\n",
    "        stock_url = 'https://api.iextrading.com/1.0/stock/{}/chart/5y?filter=date,close'.format(symbol)\n",
    "        stock_request = requests.get(stock_url)\n",
    "        single_stock_df = pd.read_json(json.dumps(stock_request.json()))\n",
    "        if 'date' in single_stock_df.columns:\n",
    "            if set_index:\n",
    "                data['date'] = single_stock_df['date']\n",
    "                data[symbol] = single_stock_df['close']\n",
    "                data.rename(index=str, columns={symbol: symbol}, inplace=True)\n",
    "                data.set_index('date', inplace=True)\n",
    "                set_index = False\n",
    "            else:\n",
    "                single_stock_df.rename(index=str, columns={'close': symbol}, inplace=True)\n",
    "                single_stock_df.set_index('date', inplace=True)\n",
    "                data = data.join(single_stock_df, on='date', how='left')\n",
    "        else:\n",
    "            print('Bad symbol: {}'.format(symbol))\n",
    "\n",
    "data.to_csv('/Users/niejo05/learning-lppl/data/backtest.csv')\n"
   ]
  },
  {
   "cell_type": "code",
   "execution_count": null,
   "metadata": {},
   "outputs": [],
   "source": []
  }
 ],
 "metadata": {
  "kernelspec": {
   "display_name": "Python 3",
   "language": "python",
   "name": "python3"
  },
  "language_info": {
   "codemirror_mode": {
    "name": "ipython",
    "version": 3
   },
   "file_extension": ".py",
   "mimetype": "text/x-python",
   "name": "python",
   "nbconvert_exporter": "python",
   "pygments_lexer": "ipython3",
   "version": "3.7.0"
  }
 },
 "nbformat": 4,
 "nbformat_minor": 2
}
